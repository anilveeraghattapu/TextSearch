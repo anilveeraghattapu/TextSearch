{
 "cells": [
  {
   "cell_type": "code",
   "execution_count": 24,
   "id": "90990413",
   "metadata": {},
   "outputs": [],
   "source": [
    "import json\n",
    "import spacy\n",
    "from collections import defaultdict"
   ]
  },
  {
   "cell_type": "code",
   "execution_count": 2,
   "id": "fb95d504",
   "metadata": {},
   "outputs": [],
   "source": [
    "nlp = spacy.load(\"en_core_web_sm\")"
   ]
  },
  {
   "cell_type": "code",
   "execution_count": 3,
   "id": "38837e58",
   "metadata": {},
   "outputs": [],
   "source": [
    "with open('data/tfidf.json') as f:\n",
    "     data = json.load(f)"
   ]
  },
  {
   "cell_type": "code",
   "execution_count": 4,
   "id": "eb3daec6",
   "metadata": {},
   "outputs": [],
   "source": [
    "with open('data/vocab.json') as f:\n",
    "     vocab = json.load(f)"
   ]
  },
  {
   "cell_type": "code",
   "execution_count": 5,
   "id": "c2048a13",
   "metadata": {},
   "outputs": [
    {
     "data": {
      "text/plain": [
       "['include', 'help', 'encourage', 'hundredth', 'tuberculosis']"
      ]
     },
     "execution_count": 5,
     "metadata": {},
     "output_type": "execute_result"
    }
   ],
   "source": [
    "vocab[0:5]"
   ]
  },
  {
   "cell_type": "code",
   "execution_count": 7,
   "id": "4be30f14",
   "metadata": {},
   "outputs": [
    {
     "data": {
      "text/plain": [
       "dict_keys(['title', 'text', 'url', 'tokenized_text', 'tfidf_vec'])"
      ]
     },
     "execution_count": 7,
     "metadata": {},
     "output_type": "execute_result"
    }
   ],
   "source": [
    "data[0].keys()"
   ]
  },
  {
   "cell_type": "code",
   "execution_count": 11,
   "id": "a647fbc7",
   "metadata": {},
   "outputs": [],
   "source": [
    "inverted_index = {}\n",
    "for i, word in enumerate(vocab):\n",
    "    inverted_index[word] = []\n",
    "    for doc in data:\n",
    "        if doc['tfidf_vec'][i]!= 0:\n",
    "            inverted_index[word].append((doc['title'],doc['tfidf_vec'][i] ))\n"
   ]
  },
  {
   "cell_type": "code",
   "execution_count": 14,
   "id": "3b61dff1",
   "metadata": {},
   "outputs": [
    {
     "data": {
      "text/plain": [
       "[('Pandemic', 0.016854449066591115),\n",
       " ('Epidemiology of HIV/AIDS', 0.08655461864405645),\n",
       " ('HIV/AIDS', 0.046550383136299264),\n",
       " ('HIV/AIDS in Yunnan', 0.03892930271132992),\n",
       " ('Viral load', 0.03463788351480536),\n",
       " ('Virus', 0.004791951205207277)]"
      ]
     },
     "execution_count": 14,
     "metadata": {},
     "output_type": "execute_result"
    }
   ],
   "source": [
    "inverted_index['hiv']"
   ]
  },
  {
   "cell_type": "code",
   "execution_count": 15,
   "id": "9a1712e9",
   "metadata": {},
   "outputs": [
    {
     "name": "stdout",
     "output_type": "stream",
     "text": [
      "A virus is a submicroscopic infectious agent that replicates only inside the living cells of an organism. Viruses infect all types of life forms, from animals and plants to microorganisms, including bacteria and archaea.\n",
      "Since Dmitri Ivanovsky's 1892 article describing a non-bacterial pathogen infecting tobacco plants and the discovery of the tobacco mosaic virus by Martinus Beijerinck in 1898, more than 6,000  virus species have been described in detail of the millions of types of viruses in the environment. Viruses are found in almost every ecosystem on Earth and are the most numerous type of biological entity. The study of viruses is known as virology, a subspeciality of microbiology.\n",
      "When infected, a host cell is forced to rapidly produce thousands of identical copies of the original virus. When not inside an infected cell or in the process of infecting a cell, viruses exist in the form of independent particles, or virions, consisting of: (i) the genetic material, i.e., long molecules of DNA or RNA that encode the structure of the proteins by which the virus acts; (ii) a protein coat, the capsid, which surrounds and protects the genetic material; and in some cases (iii) an outside envelope of lipids. The shapes of these virus particles range from simple helical and icosahedral forms to more complex structures. Most virus species have virions too small to be seen with an optical microscope, as they are one-hundredth the size of most bacteria.\n",
      "The origins of viruses in the evolutionary history of life are unclear: some may have evolved from plasmids—pieces of DNA that can move between cells—while others may have evolved from bacteria. In evolution, viruses are an important means of horizontal gene transfer, which increases genetic diversity in a way analogous to sexual reproduction. Viruses are considered by some biologists to be a life form, because they carry genetic material, reproduce, and evolve through natural selection, although they lack the key characteristics, such as cell structure, that are generally considered necessary criteria for life. Because they possess some but not all such qualities, viruses have been described as \"organisms at the edge of life\", and as self-replicators.Viruses spread in many ways. One transmission pathway is through disease-bearing organisms known as vectors: for example, viruses are often transmitted from plant to plant by insects that feed on plant sap, such as aphids; and viruses in animals can be carried by blood-sucking insects. Influenza viruses are spread by coughing and sneezing. Norovirus and rotavirus, common causes of viral gastroenteritis, are transmitted by the faecal–oral route, passed by hand-to-mouth contact or in food or water. The infectious dose of norovirus required to produce infection in humans is less than 100 particles. HIV is one of several viruses transmitted through sexual contact and by exposure to infected blood. The variety of host cells that a virus can infect is called its \"host range\". This can be narrow, meaning a virus is capable of infecting few species, or broad, meaning it is capable of infecting many.Viral infections in animals provoke an immune response that usually eliminates the infecting virus. Immune responses can also be produced by vaccines, which confer an artificially acquired immunity to the specific viral infection. Some viruses, including those that cause AIDS, HPV infection, and viral hepatitis, evade these immune responses and result in chronic infections. Several antiviral drugs have been developed.\n"
     ]
    }
   ],
   "source": [
    "for s in data:\n",
    "    if s[\"title\"] == 'Virus':\n",
    "        print(s[\"text\"])"
   ]
  },
  {
   "cell_type": "code",
   "execution_count": 16,
   "id": "a4ac4462",
   "metadata": {},
   "outputs": [],
   "source": [
    "def tokenizer(input_string):\n",
    "    # tokenize, clean, lemmatize\n",
    "    text_lowercased = nlp(input_string.lower())\n",
    "    tokens_without_stopwords = [word for word in text_lowercased if not word.is_stop and not word.is_punct and len (word.dep_.strip()) != 0]\n",
    "    \n",
    "    token_lemmatized = [token.lemma_ for token in tokens_without_stopwords]\n",
    "    return token_lemmatized"
   ]
  },
  {
   "cell_type": "code",
   "execution_count": 22,
   "id": "e20be664",
   "metadata": {},
   "outputs": [],
   "source": [
    "def search(query,  index = inverted_index):\n",
    "    query_tokens = tokenizer(query)\n",
    "    newlist = []\n",
    "    for token in query_tokens:\n",
    "        newlist.extend(inverted_index[token])\n",
    "        \n",
    "    output = defaultdict(int)\n",
    "    for k, v in newlist:\n",
    "        output[k]+= v\n",
    "    results = [(x,y) for x, y in output.items()]\n",
    "    return sorted(results, key = lambda x:x[1], reverse=True)"
   ]
  },
  {
   "cell_type": "code",
   "execution_count": 25,
   "id": "54e794f4",
   "metadata": {},
   "outputs": [
    {
     "name": "stdout",
     "output_type": "stream",
     "text": [
      "A virus is a submicroscopic infectious agent that replicates only inside the living cells of an organism. Viruses infect all types of life forms, from animals and plants to microorganisms, including bacteria and archaea.\n",
      "Since Dmitri Ivanovsky's 1892 article describing a non-bacterial pathogen infecting tobacco plants and the discovery of the tobacco mosaic virus by Martinus Beijerinck in 1898, more than 6,000  virus species have been described in detail of the millions of types of viruses in the environment. Viruses are found in almost every ecosystem on Earth and are the most numerous type of biological entity. The study of viruses is known as virology, a subspeciality of microbiology.\n",
      "When infected, a host cell is forced to rapidly produce thousands of identical copies of the original virus. When not inside an infected cell or in the process of infecting a cell, viruses exist in the form of independent particles, or virions, consisting of: (i) the genetic material, i.e., long molecules of DNA or RNA that encode the structure of the proteins by which the virus acts; (ii) a protein coat, the capsid, which surrounds and protects the genetic material; and in some cases (iii) an outside envelope of lipids. The shapes of these virus particles range from simple helical and icosahedral forms to more complex structures. Most virus species have virions too small to be seen with an optical microscope, as they are one-hundredth the size of most bacteria.\n",
      "The origins of viruses in the evolutionary history of life are unclear: some may have evolved from plasmids—pieces of DNA that can move between cells—while others may have evolved from bacteria. In evolution, viruses are an important means of horizontal gene transfer, which increases genetic diversity in a way analogous to sexual reproduction. Viruses are considered by some biologists to be a life form, because they carry genetic material, reproduce, and evolve through natural selection, although they lack the key characteristics, such as cell structure, that are generally considered necessary criteria for life. Because they possess some but not all such qualities, viruses have been described as \"organisms at the edge of life\", and as self-replicators.Viruses spread in many ways. One transmission pathway is through disease-bearing organisms known as vectors: for example, viruses are often transmitted from plant to plant by insects that feed on plant sap, such as aphids; and viruses in animals can be carried by blood-sucking insects. Influenza viruses are spread by coughing and sneezing. Norovirus and rotavirus, common causes of viral gastroenteritis, are transmitted by the faecal–oral route, passed by hand-to-mouth contact or in food or water. The infectious dose of norovirus required to produce infection in humans is less than 100 particles. HIV is one of several viruses transmitted through sexual contact and by exposure to infected blood. The variety of host cells that a virus can infect is called its \"host range\". This can be narrow, meaning a virus is capable of infecting few species, or broad, meaning it is capable of infecting many.Viral infections in animals provoke an immune response that usually eliminates the infecting virus. Immune responses can also be produced by vaccines, which confer an artificially acquired immunity to the specific viral infection. Some viruses, including those that cause AIDS, HPV infection, and viral hepatitis, evade these immune responses and result in chronic infections. Several antiviral drugs have been developed.\n"
     ]
    }
   ],
   "source": [
    "title, score = search(query = 'world health organization')[0]\n",
    "for d in data:\n",
    "    if d['title'] == title:\n",
    "        print(s['text'])"
   ]
  },
  {
   "cell_type": "code",
   "execution_count": 27,
   "id": "3fca89f9",
   "metadata": {},
   "outputs": [
    {
     "data": {
      "text/plain": [
       "[('Plague of Cyprian', 0.047499062175213644),\n",
       " ('Science diplomacy and pandemics', 0.027286695292144007)]"
      ]
     },
     "execution_count": 27,
     "metadata": {},
     "output_type": "execute_result"
    }
   ],
   "source": [
    "search(query = 'ebola')\n"
   ]
  },
  {
   "cell_type": "code",
   "execution_count": null,
   "id": "5c80ce79",
   "metadata": {},
   "outputs": [],
   "source": [
    "for d in data:\n",
    "    if (d['title'] == 'Science diplomacy and pandemics'):\n",
    "        print()"
   ]
  },
  {
   "cell_type": "code",
   "execution_count": null,
   "id": "3a57ccff",
   "metadata": {},
   "outputs": [],
   "source": [
    "#save the inverted index to json file"
   ]
  }
 ],
 "metadata": {
  "kernelspec": {
   "display_name": "Python 3 (ipykernel)",
   "language": "python",
   "name": "python3"
  },
  "language_info": {
   "codemirror_mode": {
    "name": "ipython",
    "version": 3
   },
   "file_extension": ".py",
   "mimetype": "text/x-python",
   "name": "python",
   "nbconvert_exporter": "python",
   "pygments_lexer": "ipython3",
   "version": "3.11.4"
  }
 },
 "nbformat": 4,
 "nbformat_minor": 5
}
