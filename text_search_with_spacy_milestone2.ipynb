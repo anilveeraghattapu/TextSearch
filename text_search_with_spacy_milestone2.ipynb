{
 "cells": [
  {
   "cell_type": "code",
   "execution_count": null,
   "id": "97b0a958",
   "metadata": {},
   "outputs": [],
   "source": [
    "!pip install -U pip setuptools wheel\n",
    "!pip install -U spacy\n",
    "!python -m spacy download en_core_web_sm"
   ]
  },
  {
   "cell_type": "code",
   "execution_count": 1,
   "id": "244a67eb",
   "metadata": {},
   "outputs": [],
   "source": [
    "import json"
   ]
  },
  {
   "cell_type": "code",
   "execution_count": 2,
   "id": "4a76e348",
   "metadata": {},
   "outputs": [],
   "source": [
    "import spacy\n",
    "nlp = spacy.load(\"en_core_web_sm\")"
   ]
  },
  {
   "cell_type": "code",
   "execution_count": 3,
   "id": "e13bca5a",
   "metadata": {},
   "outputs": [],
   "source": [
    "with open('./tokenized.json') as f:\n",
    "     data = json.load(f)\n"
   ]
  },
  {
   "cell_type": "code",
   "execution_count": 4,
   "id": "365047c7",
   "metadata": {},
   "outputs": [
    {
     "name": "stdout",
     "output_type": "stream",
     "text": [
      "dict_keys(['title', 'text', 'url', 'tokenized_text'])\n"
     ]
    }
   ],
   "source": [
    "print (data[0].keys())"
   ]
  },
  {
   "cell_type": "code",
   "execution_count": 36,
   "id": "d0dc9d68",
   "metadata": {},
   "outputs": [],
   "source": [
    "def build_corpus_vocabulary(data):\n",
    "    all_tokens = []\n",
    "    for i in range(0, len(data)):\n",
    "        all_tokens += [list(set(data[i]['tokenized_text'] ))]\n",
    "    corpus = sum(all_tokens, [])\n",
    "    corpus.sort()\n",
    "    return corpus"
   ]
  },
  {
   "cell_type": "code",
   "execution_count": 37,
   "id": "0e101ceb",
   "metadata": {},
   "outputs": [],
   "source": [
    "vocab = build_corpus_vocabulary(data)"
   ]
  },
  {
   "cell_type": "code",
   "execution_count": 38,
   "id": "deb12c30",
   "metadata": {},
   "outputs": [
    {
     "data": {
      "text/plain": [
       "2443"
      ]
     },
     "execution_count": 38,
     "metadata": {},
     "output_type": "execute_result"
    }
   ],
   "source": [
    "len(vocab)"
   ]
  },
  {
   "cell_type": "code",
   "execution_count": 39,
   "id": "73acd03d",
   "metadata": {},
   "outputs": [
    {
     "data": {
      "text/plain": [
       "['0',\n",
       " '0.03',\n",
       " '0.04',\n",
       " '0.05',\n",
       " '0.06',\n",
       " '0.08',\n",
       " '0.09',\n",
       " '0.1%.in',\n",
       " '0.11',\n",
       " '0.3',\n",
       " '1',\n",
       " '1',\n",
       " '1',\n",
       " '1,841',\n",
       " '1.1']"
      ]
     },
     "execution_count": 39,
     "metadata": {},
     "output_type": "execute_result"
    }
   ],
   "source": [
    "vocab[0:15]"
   ]
  },
  {
   "cell_type": "code",
   "execution_count": 41,
   "id": "76b97a1b",
   "metadata": {},
   "outputs": [],
   "source": [
    "from sklearn.feature_extraction.text import TfidfVectorizer\n",
    "vectorizer = TfidfVectorizer()"
   ]
  },
  {
   "cell_type": "code",
   "execution_count": 42,
   "id": "f97411c4",
   "metadata": {},
   "outputs": [],
   "source": [
    "def compute_tfidfs(data):\n",
    "    \n",
    "    for i in range(0, len(data)):\n",
    "        data[i]['tfidfvectors']  = vectorizer.fit_transform(data[i]['tokenized_text'])\n",
    "         "
   ]
  },
  {
   "cell_type": "code",
   "execution_count": 43,
   "id": "8bdc3a92",
   "metadata": {},
   "outputs": [],
   "source": [
    "compute_tfidfs(data)"
   ]
  },
  {
   "cell_type": "code",
   "execution_count": 46,
   "id": "bcdc98fe",
   "metadata": {},
   "outputs": [
    {
     "data": {
      "text/plain": [
       "array([[0., 0., 0., ..., 0., 0., 0.],\n",
       "       [0., 0., 0., ..., 0., 0., 0.],\n",
       "       [0., 0., 0., ..., 0., 0., 1.],\n",
       "       ...,\n",
       "       [0., 0., 0., ..., 0., 0., 0.],\n",
       "       [0., 0., 0., ..., 0., 0., 0.],\n",
       "       [0., 0., 0., ..., 0., 0., 0.]])"
      ]
     },
     "execution_count": 46,
     "metadata": {},
     "output_type": "execute_result"
    }
   ],
   "source": [
    "data[0]['tfidfvectors'].toarray()"
   ]
  },
  {
   "cell_type": "code",
   "execution_count": null,
   "id": "4b01dbcf",
   "metadata": {},
   "outputs": [],
   "source": []
  }
 ],
 "metadata": {
  "kernelspec": {
   "display_name": "Python 3 (ipykernel)",
   "language": "python",
   "name": "python3"
  },
  "language_info": {
   "codemirror_mode": {
    "name": "ipython",
    "version": 3
   },
   "file_extension": ".py",
   "mimetype": "text/x-python",
   "name": "python",
   "nbconvert_exporter": "python",
   "pygments_lexer": "ipython3",
   "version": "3.11.4"
  }
 },
 "nbformat": 4,
 "nbformat_minor": 5
}
