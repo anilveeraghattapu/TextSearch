{
 "cells": [
  {
   "cell_type": "code",
   "execution_count": 245,
   "id": "c1eeb2a9",
   "metadata": {},
   "outputs": [],
   "source": [
    "import json\n",
    "import itertools\n",
    "from collections import Counter\n",
    "from collections import defaultdict\n",
    "import numpy as np\n",
    "import spacy\n",
    "from sklearn.metrics.pairwise import cosine_similarity"
   ]
  },
  {
   "cell_type": "code",
   "execution_count": 111,
   "id": "3caad3fe",
   "metadata": {},
   "outputs": [],
   "source": [
    "nlp = spacy.load('en_core_web_sm')"
   ]
  },
  {
   "cell_type": "code",
   "execution_count": 112,
   "id": "0b4f15ef",
   "metadata": {},
   "outputs": [],
   "source": [
    "with open('data/data.json', 'r') as outfile:\n",
    "    data = json.load(outfile)"
   ]
  },
  {
   "cell_type": "code",
   "execution_count": 113,
   "id": "47ba1641",
   "metadata": {},
   "outputs": [
    {
     "name": "stdout",
     "output_type": "stream",
     "text": [
      "dict_keys(['title', 'text', 'url'])\n"
     ]
    }
   ],
   "source": [
    "print(data[0].keys())"
   ]
  },
  {
   "cell_type": "code",
   "execution_count": 114,
   "id": "1cdb7002",
   "metadata": {},
   "outputs": [],
   "source": [
    "text = data[0]['text']"
   ]
  },
  {
   "cell_type": "code",
   "execution_count": 115,
   "id": "d44c776c",
   "metadata": {},
   "outputs": [
    {
     "data": {
      "text/plain": [
       "'A pandemic (from Greek πᾶν, pan, \"all\" and δῆμος, demos, \"people\") is an epidemic of an infectious disease that has spread across a large region, for instance multiple continents or worldwide, affecting a substantial number of people. A widespread endemic disease with a stable number of infected people is not a pandemic. Widespread endemic diseases with a stable number of infected people such as recurrences of seasonal influenza are generally excluded as they occur simultaneously in large regions of the globe rather than being spread worldwide.\\nThroughout human history, there have been a number of pandemics of diseases such as smallpox and tuberculosis. The most fatal pandemic in recorded history was the Black Death (also known as The Plague), which killed an estimated 75–200 million people in the 14th century. The term was not used yet but was for later pandemics including the 1918 influenza pandemic (Spanish flu). Current pandemics include COVID-19 (SARS-CoV-2) and HIV/AIDS.'"
      ]
     },
     "execution_count": 115,
     "metadata": {},
     "output_type": "execute_result"
    }
   ],
   "source": [
    "text"
   ]
  },
  {
   "cell_type": "code",
   "execution_count": 116,
   "id": "68d19cba",
   "metadata": {},
   "outputs": [
    {
     "name": "stdout",
     "output_type": "stream",
     "text": [
      "<class 'spacy.tokens.token.Token'> a DET det\n",
      "<class 'spacy.tokens.token.Token'> pandemic ADJ nsubj\n",
      "<class 'spacy.tokens.token.Token'> ( PUNCT punct\n",
      "<class 'spacy.tokens.token.Token'> from ADP prep\n",
      "<class 'spacy.tokens.token.Token'> greek PROPN amod\n"
     ]
    }
   ],
   "source": [
    "text_tokenized = nlp(text.lower())\n",
    "for token in text_tokenized[:5]:\n",
    "    print(type(token), token.text, token.pos_, token.dep_)"
   ]
  },
  {
   "cell_type": "code",
   "execution_count": 117,
   "id": "82c42158",
   "metadata": {},
   "outputs": [
    {
     "name": "stdout",
     "output_type": "stream",
     "text": [
      "[]\n"
     ]
    }
   ],
   "source": [
    "unclassified_tokens = [(token.lemma_, token.dep_)\n",
    "                      for token \n",
    "                      in text_tokenized\n",
    "                      if token.dep_ == '']\n",
    "\n",
    "print(unclassified_tokens)"
   ]
  },
  {
   "cell_type": "code",
   "execution_count": 118,
   "id": "e1d3da84",
   "metadata": {},
   "outputs": [],
   "source": [
    "#remove stop words and punctuation"
   ]
  },
  {
   "cell_type": "code",
   "execution_count": 119,
   "id": "1ff28316",
   "metadata": {},
   "outputs": [
    {
     "data": {
      "text/plain": [
       "[pandemic,\n",
       " greek,\n",
       " πᾶν,\n",
       " pan,\n",
       " δῆμος,\n",
       " demos,\n",
       " people,\n",
       " epidemic,\n",
       " infectious,\n",
       " disease]"
      ]
     },
     "execution_count": 119,
     "metadata": {},
     "output_type": "execute_result"
    }
   ],
   "source": [
    "tokens_without_sw = [ word for word in text_tokenized if not word.is_stop and not word.is_punct]\n",
    "tokens_without_sw[0:10]"
   ]
  },
  {
   "cell_type": "code",
   "execution_count": 120,
   "id": "73354317",
   "metadata": {},
   "outputs": [],
   "source": [
    "#lemmatize tokens"
   ]
  },
  {
   "cell_type": "code",
   "execution_count": 121,
   "id": "c70ebf72",
   "metadata": {},
   "outputs": [],
   "source": [
    "token_lemmas = [token.lemma_ for token in tokens_without_sw if token.dep_]"
   ]
  },
  {
   "cell_type": "code",
   "execution_count": 122,
   "id": "7a196b99",
   "metadata": {},
   "outputs": [
    {
     "data": {
      "text/plain": [
       "['pandemic',\n",
       " 'greek',\n",
       " 'πᾶν',\n",
       " 'pan',\n",
       " 'δῆμος',\n",
       " 'demos',\n",
       " 'people',\n",
       " 'epidemic',\n",
       " 'infectious',\n",
       " 'disease']"
      ]
     },
     "execution_count": 122,
     "metadata": {},
     "output_type": "execute_result"
    }
   ],
   "source": [
    "token_lemmas[0:10]"
   ]
  },
  {
   "cell_type": "code",
   "execution_count": 123,
   "id": "4979ff52",
   "metadata": {},
   "outputs": [],
   "source": [
    "def tokenizer(document):\n",
    "    text_lowercased = nlp(document.lower())\n",
    "    tokens_without_sw = [word for word in text_lowercased if not word.is_stop and not word.is_punct]\n",
    "    \n",
    "    token_lemmas = [token.lemma_ for token in tokens_without_sw if token.dep_]\n",
    "    return token_lemmas"
   ]
  },
  {
   "cell_type": "code",
   "execution_count": 124,
   "id": "f7833dce",
   "metadata": {},
   "outputs": [],
   "source": [
    "for doc in data:\n",
    "    doc['tokenized_text'] = tokenizer(doc['text'])"
   ]
  },
  {
   "cell_type": "code",
   "execution_count": 125,
   "id": "53cff00f",
   "metadata": {},
   "outputs": [],
   "source": [
    "#build corpus vocabulary"
   ]
  },
  {
   "cell_type": "code",
   "execution_count": 126,
   "id": "13f50a55",
   "metadata": {},
   "outputs": [],
   "source": [
    "tokenized_texts = [i['tokenized_text'] for i in data]\n",
    "vocab = list(itertools.chain(*tokenized_texts))\n",
    "vocab = list(set(vocab))"
   ]
  },
  {
   "cell_type": "code",
   "execution_count": 157,
   "id": "b6cb92d0",
   "metadata": {},
   "outputs": [],
   "source": [
    "docs_token_counter = []\n",
    "for docs in data:\n",
    "    docs_token_counter.append(Counter(docs['tokenized_text']))"
   ]
  },
  {
   "cell_type": "code",
   "execution_count": 159,
   "id": "b4a49b01",
   "metadata": {},
   "outputs": [],
   "source": [
    "# For each token in corpus vocabulary, count in how many documents it occurs\n",
    "number_docs_with_token  = {}\n",
    "for token in vocab:\n",
    "    count_docs = sum([1 for doc in docs_token_counter if token in doc.keys()])\n",
    "    number_docs_with_token[token] = count_docs"
   ]
  },
  {
   "cell_type": "code",
   "execution_count": 164,
   "id": "d6fb7530",
   "metadata": {},
   "outputs": [
    {
     "data": {
      "text/plain": [
       "6"
      ]
     },
     "execution_count": 164,
     "metadata": {},
     "output_type": "execute_result"
    }
   ],
   "source": [
    "number_docs_with_token['hiv']"
   ]
  },
  {
   "cell_type": "code",
   "execution_count": 180,
   "id": "e7a04cba",
   "metadata": {},
   "outputs": [],
   "source": [
    "#compute tfidfs of a document\n",
    "for i, doc in enumerate(docs_token_counter):\n",
    "    tfidf_vec = []\n",
    "    for token in vocab:\n",
    "        #term frequency\n",
    "        tf = doc[token] / len(data[i]['tokenized_text'])\n",
    "        \n",
    "        #document frequency\n",
    "        idf = np.log(len(data)/(number_docs_with_token[token]))\n",
    "        \n",
    "        tfidf = tf * idf\n",
    "        tfidf_vec.append(tfidf)\n",
    "        \n",
    "    data[i]['tf_idf'] = tfidf_vec"
   ]
  },
  {
   "cell_type": "code",
   "execution_count": 184,
   "id": "8c6b595c",
   "metadata": {},
   "outputs": [
    {
     "data": {
      "text/plain": [
       "2.527419345612542"
      ]
     },
     "execution_count": 184,
     "metadata": {},
     "output_type": "execute_result"
    }
   ],
   "source": [
    "sum(data[2]['tf_idf'])"
   ]
  },
  {
   "cell_type": "code",
   "execution_count": 185,
   "id": "35a01b30",
   "metadata": {},
   "outputs": [],
   "source": [
    "#vectorize query"
   ]
  },
  {
   "cell_type": "code",
   "execution_count": 186,
   "id": "0451de3d",
   "metadata": {},
   "outputs": [],
   "source": [
    "query = 'highest pandemic casualities'"
   ]
  },
  {
   "cell_type": "code",
   "execution_count": 192,
   "id": "9e3b236d",
   "metadata": {},
   "outputs": [],
   "source": [
    "def vectorize(query, vocab = vocab):\n",
    "    query_tokenized = tokenizer(query)\n",
    "    query_token_counter = Counter(query_tokenized)\n",
    "    query_vec = []\n",
    "    for token in vocab:\n",
    "        tf = query_token_counter[token] / len(query_tokenized)\n",
    "        idf = np.log(len(data) / number_docs_with_token[token])\n",
    "        tf_idf = tf*idf\n",
    "        query_vec.append(tf_idf)\n",
    "    return query_vec"
   ]
  },
  {
   "cell_type": "code",
   "execution_count": 196,
   "id": "c6ffe0a9",
   "metadata": {},
   "outputs": [],
   "source": [
    "#search document"
   ]
  },
  {
   "cell_type": "code",
   "execution_count": 209,
   "id": "dd2f922c",
   "metadata": {},
   "outputs": [],
   "source": [
    "def search_tfidf(query, data = data):\n",
    "    #vectorize query\n",
    "    query_vec = vectorize(query)\n",
    "    query_arr = np.array(query_vec)\n",
    "    ranks = []\n",
    "    for doc in data:\n",
    "        doc_rank = {}\n",
    "        doc_arr = np.array(doc['tf_idf'])\n",
    "        rank = cosine_similarity(query_arr.reshape(1,-1), doc_arr.reshape(1,-1))[0][0]\n",
    "        if rank > 0:\n",
    "            doc_rank['title'] = doc['title']\n",
    "            doc_rank['rank'] = rank\n",
    "            ranks.append(doc_rank)\n",
    "    \n",
    "    return sorted(ranks, key= lambda k: k['rank'], reverse = True)"
   ]
  },
  {
   "cell_type": "code",
   "execution_count": 210,
   "id": "a274890f",
   "metadata": {},
   "outputs": [
    {
     "data": {
      "text/plain": [
       "[{'title': 'Spanish flu', 'rank': 0.13481326476860545},\n",
       " {'title': 'Pandemic prevention', 'rank': 0.0710735794641128},\n",
       " {'title': 'Targeted immunization strategies', 'rank': 0.057426489066527045},\n",
       " {'title': 'COVID-19 pandemic', 'rank': 0.04639029115406248},\n",
       " {'title': 'Cholera', 'rank': 0.044987345029628534},\n",
       " {'title': 'Pandemic', 'rank': 0.044775690846696845},\n",
       " {'title': 'Superspreader', 'rank': 0.04035859935317057},\n",
       " {'title': 'HIV/AIDS in Yunnan', 'rank': 0.03473486866775819},\n",
       " {'title': 'Pandemic Severity Assessment Framework',\n",
       "  'rank': 0.03344527594939134},\n",
       " {'title': 'Viral load', 'rank': 0.02775773390173221},\n",
       " {'title': 'Pandemic severity index', 'rank': 0.024403808152607624},\n",
       " {'title': 'Epidemiology of HIV/AIDS', 'rank': 0.018764088153593414},\n",
       " {'title': 'Crimson Contagion', 'rank': 0.017821964411586344},\n",
       " {'title': 'Plague of Cyprian', 'rank': 0.013316847683256168},\n",
       " {'title': 'PREDICT (USAID)', 'rank': 0.013002251981818312},\n",
       " {'title': 'Swine influenza', 'rank': 0.008649576720652325},\n",
       " {'title': 'Antonine Plague', 'rank': 0.007209249606497648},\n",
       " {'title': '1929–1930 psittacosis pandemic', 'rank': 0.007012253215859178},\n",
       " {'title': 'Science diplomacy and pandemics', 'rank': 0.0039928800604593076},\n",
       " {'title': 'HIV/AIDS', 'rank': 0.003164866078290696},\n",
       " {'title': 'Unified Victim Identification System',\n",
       "  'rank': 0.0028916657564548977}]"
      ]
     },
     "execution_count": 210,
     "metadata": {},
     "output_type": "execute_result"
    }
   ],
   "source": [
    "search_tfidf(query,data)"
   ]
  },
  {
   "cell_type": "code",
   "execution_count": 211,
   "id": "5b874566",
   "metadata": {},
   "outputs": [
    {
     "data": {
      "text/plain": [
       "[{'title': 'Plague of Cyprian', 'rank': 0.11852960348756272},\n",
       " {'title': 'Science diplomacy and pandemics', 'rank': 0.07107905738603662}]"
      ]
     },
     "execution_count": 211,
     "metadata": {},
     "output_type": "execute_result"
    }
   ],
   "source": [
    "search_tfidf('ebola')"
   ]
  },
  {
   "cell_type": "code",
   "execution_count": 212,
   "id": "354f696f",
   "metadata": {},
   "outputs": [
    {
     "name": "stdout",
     "output_type": "stream",
     "text": [
      "Science diplomacy is the collaborative efforts by local and global entities to solve global issues using science and technology as a base. In science diplomacy, collaboration takes place to advance science but science can also be used to facilitate diplomatic relations. This allows even conflicting nations to come together through science to find solutions to global issues. Global organizations, researchers, public health officials, countries, government officials, and clinicians have previously worked together to create effective measures of infection control and subsequent treatment. They continue to do so through sharing of resources, research data, ideas, and by putting into effect laws and regulations that can further advance scientific research. Without the collaborative efforts of such entities, the world would not have the vaccines and treatments we now possess for diseases that were once considered deadly such as tuberculosis, tetanus, polio, influenza, etc. Historically, science diplomacy has proved successful in diseases such as SARS, Ebola, Zika and continues to be relevant during the COVID-19 pandemic today.\n"
     ]
    }
   ],
   "source": [
    "for d in data:\n",
    "    if d['title'] == 'Science diplomacy and pandemics':\n",
    "        print (d['text'])"
   ]
  },
  {
   "cell_type": "code",
   "execution_count": 234,
   "id": "ff4e0a1f",
   "metadata": {},
   "outputs": [],
   "source": [
    "inverted_index = {}\n",
    "for i, word in enumerate(vocab):\n",
    "    inverted_index[word] = []\n",
    "    for doc in data:\n",
    "        if doc['tf_idf'][i] !=0 :\n",
    "            inverted_index[word].append((doc['title'], doc['tf_idf'][i]))"
   ]
  },
  {
   "cell_type": "code",
   "execution_count": 235,
   "id": "260aad6e",
   "metadata": {},
   "outputs": [
    {
     "data": {
      "text/plain": [
       "[('Epidemiology of HIV/AIDS', 0.014841816146758571),\n",
       " ('HIV/AIDS', 0.025606532601028128),\n",
       " ('HIV/AIDS in Yunnan', 0.056828532877720314)]"
      ]
     },
     "execution_count": 235,
     "metadata": {},
     "output_type": "execute_result"
    }
   ],
   "source": [
    "inverted_index['aids']"
   ]
  },
  {
   "cell_type": "code",
   "execution_count": 236,
   "id": "e149e597",
   "metadata": {},
   "outputs": [
    {
     "name": "stdout",
     "output_type": "stream",
     "text": [
      "The People's Republic of China's first reported AIDS case was identified in 1985 in a dying tourist. In 1989, the first indigenous cases were reported as an outbreak in 146 infected heroin users in Yunnan province, near China's southwest border.Yunnan is the area most affected by HIV/AIDS in China. In 1989 first infections appeared among needle sharing drug users near the Burmese border. Up until 1993, the disease had remained a problem in the border areas before mobile people (truck drivers, construction and migrant workers and travelers) brought the virus further into the country. In 1995, the provinces of Sichuan and Xinjiang reported their first HIV cases, and by 1998, the virus had spread all over China.\n",
      "Low awareness of the disease among China's general population appears to be a major culprit. Most Chinese consider HIV/AIDS as a foreign issue, and even educated people are less knowledgeable of the virus, its transmission and prevention, than people in other countries. Until recently, the use of condoms was not very common, even among sex workers and their clients. As a result, the epidemic has spread from high-risk groups (drug users, sex workers, unsafe blood donors) to the general population.\n"
     ]
    }
   ],
   "source": [
    "for d in data:\n",
    "    if d['title'] == 'HIV/AIDS in Yunnan':\n",
    "        print(d['text'])"
   ]
  },
  {
   "cell_type": "code",
   "execution_count": 284,
   "id": "a394a9bd",
   "metadata": {},
   "outputs": [],
   "source": [
    "def search(query, index = inverted_index):\n",
    "    query_tokens = tokenizer(query)\n",
    "    \n",
    "    new_list = []\n",
    "    for token in query_tokens:\n",
    "        new_list.extend(index[token])\n",
    "\n",
    "    output = defaultdict(int)\n",
    "    for k,v in new_list:\n",
    "        output[k] += v\n",
    "        \n",
    "    results = [(x,y) for x , y in output.items()]\n",
    "    \n",
    "    return sorted(new_list, key = lambda x: x[1], reverse= True)"
   ]
  },
  {
   "cell_type": "code",
   "execution_count": 285,
   "id": "3507c223",
   "metadata": {},
   "outputs": [],
   "source": [
    "title, score = search(query = \"world health organization\")[0]"
   ]
  },
  {
   "cell_type": "code",
   "execution_count": 286,
   "id": "9fff0357",
   "metadata": {},
   "outputs": [
    {
     "data": {
      "text/plain": [
       "'Event 201'"
      ]
     },
     "execution_count": 286,
     "metadata": {},
     "output_type": "execute_result"
    }
   ],
   "source": [
    "title"
   ]
  },
  {
   "cell_type": "code",
   "execution_count": 287,
   "id": "73ac9358",
   "metadata": {},
   "outputs": [
    {
     "name": "stdout",
     "output_type": "stream",
     "text": [
      "The Johns Hopkins Center for Health Security (abbreviated CHS; previously the UPMC Center for Health Security, the Center for Biosecurity of UPMC, and the Johns Hopkins Center for Civilian Biodefense Strategies) is an independent, nonprofit organization of the Johns Hopkins Bloomberg School of Public Health, and part of the Environmental Health and Engineering department. It is concerned with the areas of health consequences from epidemics and disasters as well as averting biological weapons development, and implications of biosecurity for the bioeconomy. It is a think tank that does policy research and gives policy recommendations to the United States government as well as the World Health Organization and the UN Biological Weapons Convention.\n"
     ]
    }
   ],
   "source": [
    "for d in data:\n",
    "    if d['title'] == title:\n",
    "        print (d['text'])"
   ]
  },
  {
   "cell_type": "code",
   "execution_count": 266,
   "id": "d9db45ca",
   "metadata": {},
   "outputs": [
    {
     "data": {
      "text/plain": [
       "0.11049890590702932"
      ]
     },
     "execution_count": 266,
     "metadata": {},
     "output_type": "execute_result"
    }
   ],
   "source": [
    "score"
   ]
  },
  {
   "cell_type": "code",
   "execution_count": 290,
   "id": "44e4623c",
   "metadata": {},
   "outputs": [
    {
     "data": {
      "text/plain": [
       "[('Virus', 0.06659622698501509),\n",
       " ('Plague of Cyprian', 0.047499062175213644),\n",
       " ('Viral load', 0.033601611922777795),\n",
       " ('Crimson Contagion', 0.03351433500869266),\n",
       " ('Disease X', 0.03072147375796827),\n",
       " ('Swine influenza', 0.02730797667374957),\n",
       " ('Science diplomacy and pandemics', 0.027286695292144007),\n",
       " ('HIV/AIDS in Yunnan', 0.022636875400608197),\n",
       " ('Plague of Cyprian', 0.01592965305968725),\n",
       " ('HIV/AIDS', 0.013600020003527455),\n",
       " ('Spanish flu', 0.012838824854076293),\n",
       " ('Epidemiology of HIV/AIDS', 0.005912036187100423),\n",
       " ('COVID-19 pandemic', 0.0050011701466459975)]"
      ]
     },
     "execution_count": 290,
     "metadata": {},
     "output_type": "execute_result"
    }
   ],
   "source": [
    "search(query = \"Ebola virus\")"
   ]
  },
  {
   "cell_type": "code",
   "execution_count": null,
   "id": "18d327b8",
   "metadata": {},
   "outputs": [],
   "source": []
  }
 ],
 "metadata": {
  "kernelspec": {
   "display_name": "Python 3 (ipykernel)",
   "language": "python",
   "name": "python3"
  },
  "language_info": {
   "codemirror_mode": {
    "name": "ipython",
    "version": 3
   },
   "file_extension": ".py",
   "mimetype": "text/x-python",
   "name": "python",
   "nbconvert_exporter": "python",
   "pygments_lexer": "ipython3",
   "version": "3.11.4"
  }
 },
 "nbformat": 4,
 "nbformat_minor": 5
}
