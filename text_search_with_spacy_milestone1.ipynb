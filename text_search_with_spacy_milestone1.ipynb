{
 "cells": [
  {
   "cell_type": "code",
   "execution_count": 1,
   "id": "64eae75c",
   "metadata": {},
   "outputs": [],
   "source": [
    "#Preprocess the dataset using the spaCy library."
   ]
  },
  {
   "cell_type": "code",
   "execution_count": null,
   "id": "f3e3963e",
   "metadata": {},
   "outputs": [],
   "source": [
    "!pip install -U pip setuptools wheel\n",
    "!pip install -U spacy\n",
    "!python -m spacy download en_core_web_sm"
   ]
  },
  {
   "cell_type": "code",
   "execution_count": 89,
   "id": "b6ed7fd0",
   "metadata": {},
   "outputs": [],
   "source": [
    "import json"
   ]
  },
  {
   "cell_type": "code",
   "execution_count": 90,
   "id": "915fdd85",
   "metadata": {},
   "outputs": [],
   "source": [
    "import spacy\n",
    "nlp = spacy.load(\"en_core_web_sm\")"
   ]
  },
  {
   "cell_type": "code",
   "execution_count": 91,
   "id": "5a59f90a",
   "metadata": {},
   "outputs": [],
   "source": [
    "with open('./data.json') as f:\n",
    "     data = json.load(f)\n"
   ]
  },
  {
   "cell_type": "code",
   "execution_count": 92,
   "id": "febc2920",
   "metadata": {},
   "outputs": [
    {
     "data": {
      "text/plain": [
       "'A pandemic (from Greek πᾶν, pan, \"all\" and δῆμος, demos, \"people\") is an epidemic of an infectious disease that has spread across a large region, for instance multiple continents or worldwide, affecting a substantial number of people. A widespread endemic disease with a stable number of infected people is not a pandemic. Widespread endemic diseases with a stable number of infected people such as recurrences of seasonal influenza are generally excluded as they occur simultaneously in large regions of the globe rather than being spread worldwide.\\nThroughout human history, there have been a number of pandemics of diseases such as smallpox and tuberculosis. The most fatal pandemic in recorded history was the Black Death (also known as The Plague), which killed an estimated 75–200 million people in the 14th century. The term was not used yet but was for later pandemics including the 1918 influenza pandemic (Spanish flu). Current pandemics include COVID-19 (SARS-CoV-2) and HIV/AIDS.'"
      ]
     },
     "execution_count": 92,
     "metadata": {},
     "output_type": "execute_result"
    }
   ],
   "source": [
    "text =  data[0]['text']\n",
    "text"
   ]
  },
  {
   "cell_type": "code",
   "execution_count": 93,
   "id": "0c4f8394",
   "metadata": {},
   "outputs": [],
   "source": [
    "def get_tokens_list(text):\n",
    "    \n",
    "    #lower case the text\n",
    "    text = text.lower()\n",
    "    \n",
    "    #create spaCy doc\n",
    "    doc = nlp(text)\n",
    "    \n",
    "    #remove stopwords \n",
    "    filtered_lemmas = [token.lemma_ for token in doc if not (token.is_stop or token.is_punct or token.is_space )]\n",
    "    \n",
    "    return filtered_lemmas"
   ]
  },
  {
   "cell_type": "code",
   "execution_count": 94,
   "id": "94ff5008",
   "metadata": {},
   "outputs": [],
   "source": [
    "for d in data:\n",
    "    d['tokenized_text'] = get_tokens_list(d['text'])"
   ]
  },
  {
   "cell_type": "code",
   "execution_count": 95,
   "id": "07c88aa1",
   "metadata": {},
   "outputs": [
    {
     "data": {
      "text/plain": [
       "['pandemic',\n",
       " 'greek',\n",
       " 'πᾶν',\n",
       " 'pan',\n",
       " 'δῆμος',\n",
       " 'demos',\n",
       " 'people',\n",
       " 'epidemic',\n",
       " 'infectious',\n",
       " 'disease',\n",
       " 'spread',\n",
       " 'large',\n",
       " 'region',\n",
       " 'instance',\n",
       " 'multiple',\n",
       " 'continent',\n",
       " 'worldwide',\n",
       " 'affect',\n",
       " 'substantial',\n",
       " 'number',\n",
       " 'people',\n",
       " 'widespread',\n",
       " 'endemic',\n",
       " 'disease',\n",
       " 'stable',\n",
       " 'number',\n",
       " 'infect',\n",
       " 'people',\n",
       " 'pandemic',\n",
       " 'widespread',\n",
       " 'endemic',\n",
       " 'disease',\n",
       " 'stable',\n",
       " 'number',\n",
       " 'infect',\n",
       " 'people',\n",
       " 'recurrence',\n",
       " 'seasonal',\n",
       " 'influenza',\n",
       " 'generally',\n",
       " 'exclude',\n",
       " 'occur',\n",
       " 'simultaneously',\n",
       " 'large',\n",
       " 'region',\n",
       " 'globe',\n",
       " 'spread',\n",
       " 'worldwide',\n",
       " 'human',\n",
       " 'history',\n",
       " 'number',\n",
       " 'pandemic',\n",
       " 'disease',\n",
       " 'smallpox',\n",
       " 'tuberculosis',\n",
       " 'fatal',\n",
       " 'pandemic',\n",
       " 'record',\n",
       " 'history',\n",
       " 'black',\n",
       " 'death',\n",
       " 'know',\n",
       " 'plague',\n",
       " 'kill',\n",
       " 'estimate',\n",
       " '75–200',\n",
       " 'million',\n",
       " 'people',\n",
       " '14th',\n",
       " 'century',\n",
       " 'term',\n",
       " 'later',\n",
       " 'pandemic',\n",
       " 'include',\n",
       " '1918',\n",
       " 'influenza',\n",
       " 'pandemic',\n",
       " 'spanish',\n",
       " 'flu',\n",
       " 'current',\n",
       " 'pandemic',\n",
       " 'include',\n",
       " 'covid-19',\n",
       " 'sar',\n",
       " 'cov-2',\n",
       " 'hiv',\n",
       " 'aid']"
      ]
     },
     "execution_count": 95,
     "metadata": {},
     "output_type": "execute_result"
    }
   ],
   "source": [
    "data[0]['tokenized_text']"
   ]
  },
  {
   "cell_type": "code",
   "execution_count": 96,
   "id": "85cf8fc0",
   "metadata": {},
   "outputs": [],
   "source": [
    "FILE_PATH = './tokenized.json'\n",
    "\n",
    "with open(FILE_PATH, 'w') as output_file:\n",
    "\tjson.dump(data, output_file, indent=2)"
   ]
  },
  {
   "cell_type": "code",
   "execution_count": null,
   "id": "278562e7",
   "metadata": {},
   "outputs": [],
   "source": []
  }
 ],
 "metadata": {
  "kernelspec": {
   "display_name": "Python 3 (ipykernel)",
   "language": "python",
   "name": "python3"
  },
  "language_info": {
   "codemirror_mode": {
    "name": "ipython",
    "version": 3
   },
   "file_extension": ".py",
   "mimetype": "text/x-python",
   "name": "python",
   "nbconvert_exporter": "python",
   "pygments_lexer": "ipython3",
   "version": "3.11.4"
  }
 },
 "nbformat": 4,
 "nbformat_minor": 5
}
